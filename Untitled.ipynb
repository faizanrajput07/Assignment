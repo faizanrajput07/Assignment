{
 "cells": [
  {
   "cell_type": "code",
   "execution_count": null,
   "id": "59daadb3-5078-4df1-ae0f-5ba871035497",
   "metadata": {},
   "outputs": [],
   "source": [
    "# 1. How do you concatenate two strings in Python?"
   ]
  },
  {
   "cell_type": "code",
   "execution_count": 3,
   "id": "9a440f1a-7fde-4ee3-81ee-91eb627031cf",
   "metadata": {},
   "outputs": [
    {
     "name": "stdout",
     "output_type": "stream",
     "text": [
      "Faizan007\n"
     ]
    }
   ],
   "source": [
    "username = \"Faizan\"\n",
    "password = \"007\"\n",
    "# + Operator is used to combine strings\n",
    "user = username + password\n",
    "print(user)"
   ]
  },
  {
   "cell_type": "code",
   "execution_count": null,
   "id": "85515b83-112d-4235-9755-b0f81cd8bcbf",
   "metadata": {},
   "outputs": [],
   "source": [
    "# 2. What is the difference between the + operator and the join() method for\n",
    "# concatenating strings?"
   ]
  },
  {
   "cell_type": "code",
   "execution_count": 6,
   "id": "0a6238a0-7656-4c6b-8899-e80a7dd70beb",
   "metadata": {},
   "outputs": [
    {
     "name": "stdout",
     "output_type": "stream",
     "text": [
      "hellopythonwolrd\n"
     ]
    }
   ],
   "source": [
    "# python sting concetanation\n",
    "x = \"hello\"\n",
    "y = \"python\"\n",
    "z = \"wolrd\"\n",
    "\n",
    "a = x+y+z\n",
    "print(a)"
   ]
  },
  {
   "cell_type": "code",
   "execution_count": null,
   "id": "e00c6407-c87e-4f06-81d6-1cf8b4e84231",
   "metadata": {},
   "outputs": [],
   "source": [
    "# 3. How do you access individual characters in a string?"
   ]
  },
  {
   "cell_type": "code",
   "execution_count": 11,
   "id": "fae01eee-ec38-4964-8878-fd3b1bd05716",
   "metadata": {},
   "outputs": [
    {
     "name": "stdout",
     "output_type": "stream",
     "text": [
      "N\n",
      "O\n",
      "H\n",
      "T\n",
      "Y\n",
      "P\n"
     ]
    }
   ],
   "source": [
    " string = \"python\".upper()\n",
    "\n",
    "# p y t h o n\n",
    "# 0 1 2 3 4 5\n",
    "\n",
    "\n",
    "print(string[-1])\n",
    "print(string[-2])\n",
    "print(string[-3])\n",
    "print(string[-4])\n",
    "print(string[-5])\n",
    "print(string[-6])"
   ]
  },
  {
   "cell_type": "code",
   "execution_count": null,
   "id": "97f6f2a2-e331-49d0-93e1-7decba2c8781",
   "metadata": {},
   "outputs": [],
   "source": [
    "# 4. What method is used to find the length of a string in Python?"
   ]
  },
  {
   "cell_type": "code",
   "execution_count": 18,
   "id": "d852d255-2eee-4f6b-ba0f-efdd18ef9783",
   "metadata": {},
   "outputs": [
    {
     "name": "stdout",
     "output_type": "stream",
     "text": [
      "6\n"
     ]
    }
   ],
   "source": [
    "string1 = \"Faizan\"\n",
    "A = len(string1)\n",
    "print(A)"
   ]
  },
  {
   "cell_type": "code",
   "execution_count": 15,
   "id": "a9d5b379-e8a3-44bf-a9bf-51c47970e35d",
   "metadata": {},
   "outputs": [],
   "source": [
    "# 5. How can you convert a string to uppercase in Python?"
   ]
  },
  {
   "cell_type": "code",
   "execution_count": 20,
   "id": "9f5d73a7-01f7-49a1-ba15-5b307015b8f5",
   "metadata": {},
   "outputs": [
    {
     "name": "stdout",
     "output_type": "stream",
     "text": [
      "FAIZAN\n"
     ]
    }
   ],
   "source": [
    "name = \"faizan\".upper()\n",
    "\n",
    "print(name)"
   ]
  },
  {
   "cell_type": "code",
   "execution_count": null,
   "id": "6ccc1b1a-6814-4760-8007-63ae2e7353ae",
   "metadata": {},
   "outputs": [],
   "source": [
    "# 6. How can you convert a string to lowercase in Python?"
   ]
  },
  {
   "cell_type": "code",
   "execution_count": 22,
   "id": "25b2eb45-75da-4d34-b444-3e97b25df9d6",
   "metadata": {},
   "outputs": [
    {
     "name": "stdout",
     "output_type": "stream",
     "text": [
      "hellopython\n"
     ]
    }
   ],
   "source": [
    "username = \"HELLOPYTHON\".lower()\n",
    "\n",
    "#string lowercase,\n",
    "\n",
    "print(username)"
   ]
  },
  {
   "cell_type": "code",
   "execution_count": null,
   "id": "84df377a-516e-49a6-b8e1-0908b487b984",
   "metadata": {},
   "outputs": [],
   "source": [
    "# 7. What method is used to replace substrings within a string?"
   ]
  },
  {
   "cell_type": "code",
   "execution_count": 23,
   "id": "54f46a37-6e1d-4221-9f1b-f6ef9695b21b",
   "metadata": {},
   "outputs": [
    {
     "name": "stdout",
     "output_type": "stream",
     "text": [
      "disneyshows\n",
      "movieshows\n"
     ]
    }
   ],
   "source": [
    "name = \"disneyshows\"\n",
    "old  = \"disney\"\n",
    "new  = \"movie\"\n",
    "str1 = name.replace(old,new)\n",
    "print(name)\n",
    "print(str1)"
   ]
  },
  {
   "cell_type": "code",
   "execution_count": null,
   "id": "4dd1d823-e2d4-4303-b0be-8876396926b2",
   "metadata": {},
   "outputs": [],
   "source": [
    "# 8. How can you split a string into a list of substrings based on a delimiter?"
   ]
  },
  {
   "cell_type": "code",
   "execution_count": 36,
   "id": "89b66d08-ba25-4656-b6ad-3b577212443e",
   "metadata": {},
   "outputs": [
    {
     "name": "stdout",
     "output_type": "stream",
     "text": [
      "Faizan choudhary\n",
      "['Faizan choudhary']\n"
     ]
    }
   ],
   "source": [
    "name = \"Faizan choudhary\"\n",
    "str1 = name.split(',')\n",
    "\n",
    "print(name)\n",
    "print(str1)"
   ]
  },
  {
   "cell_type": "code",
   "execution_count": null,
   "id": "08b37bf0-898b-4c1c-8644-517005728cb4",
   "metadata": {},
   "outputs": [],
   "source": [
    "# 9. How do you check if a string starts with a particular substring?"
   ]
  },
  {
   "cell_type": "code",
   "execution_count": 39,
   "id": "3f2a9c94-7eea-401d-8e19-d9cf069f38ed",
   "metadata": {},
   "outputs": [
    {
     "name": "stdout",
     "output_type": "stream",
     "text": [
      "Hello i m Faizan\n",
      "True\n"
     ]
    }
   ],
   "source": [
    "name = \"Hello i m Faizan\"\n",
    "str1 = name.startswith('Hello')\n",
    "print(name)\n",
    "print(str1)"
   ]
  },
  {
   "cell_type": "code",
   "execution_count": null,
   "id": "7533e3c1-4985-4d28-bd8b-afd5f726021a",
   "metadata": {},
   "outputs": [],
   "source": [
    "# 10. How do you check if a string ends with a particular substring?"
   ]
  },
  {
   "cell_type": "code",
   "execution_count": 41,
   "id": "eba222ff-bee6-40e1-8907-bfd35e95cabf",
   "metadata": {},
   "outputs": [
    {
     "name": "stdout",
     "output_type": "stream",
     "text": [
      "Than you Bye\n",
      "True\n"
     ]
    }
   ],
   "source": [
    "name = \"Than you Bye\"\n",
    "str2 = name.endswith('Than')\n",
    "print(name)\n",
    "print(str1)"
   ]
  },
  {
   "cell_type": "code",
   "execution_count": null,
   "id": "6ee2557f-789c-49db-8c86-be85e4fa66e8",
   "metadata": {},
   "outputs": [],
   "source": [
    "# 11. How can you remove leading and trailing whitespace from a string?"
   ]
  },
  {
   "cell_type": "code",
   "execution_count": 43,
   "id": "267122f8-6484-4498-b4dc-d1ac5b46a582",
   "metadata": {},
   "outputs": [
    {
     "name": "stdout",
     "output_type": "stream",
     "text": [
      "        i work in notebook    \n"
     ]
    }
   ],
   "source": [
    ">>> a = \"        i work in notebook        \"\n",
    ">>> print(a)\n",
    "\n"
   ]
  },
  {
   "cell_type": "code",
   "execution_count": null,
   "id": "43eb7c86-3420-473c-ad8e-03304dda835d",
   "metadata": {},
   "outputs": [],
   "source": [
    "# 12. What method is used to find the index of the first occurrence of a substring within a\n",
    "# string?"
   ]
  },
  {
   "cell_type": "code",
   "execution_count": 47,
   "id": "addd1e44-e923-4308-a35b-7619608c75b8",
   "metadata": {},
   "outputs": [
    {
     "name": "stdout",
     "output_type": "stream",
     "text": [
      "7\n"
     ]
    }
   ],
   "source": [
    "name = 'choudhary'\n",
    "\n",
    "result = name.find('r')\n",
    "\n",
    "print(result)\n"
   ]
  },
  {
   "cell_type": "code",
   "execution_count": null,
   "id": "773edacd-c359-4965-a549-79a3eb8c2f9a",
   "metadata": {},
   "outputs": [],
   "source": [
    "# 13. How can you count the number of occurrences of a substring within a string?"
   ]
  },
  {
   "cell_type": "code",
   "execution_count": 56,
   "id": "0ece2310-33d4-4616-a71c-baf58ccbf689",
   "metadata": {},
   "outputs": [
    {
     "name": "stdout",
     "output_type": "stream",
     "text": [
      "2\n"
     ]
    }
   ],
   "source": [
    "string = \"coding Things\"\n",
    "\n",
    "print(string.count(\"i\"))"
   ]
  },
  {
   "cell_type": "code",
   "execution_count": 1,
   "id": "5e11003d-7ff9-4bec-86f3-d25d117c01aa",
   "metadata": {},
   "outputs": [
    {
     "name": "stdin",
     "output_type": "stream",
     "text": [
      "Enter a string:  my_substring\n",
      "Enter a substring :  my_count\n"
     ]
    },
    {
     "name": "stdout",
     "output_type": "stream",
     "text": [
      "substring occurs 0 times \n"
     ]
    }
   ],
   "source": [
    "my_string = input(\"Enter a string: \")\n",
    "my_substring = input(\"Enter a substring : \")\n",
    "\n",
    "my_count = my_string.count(my_substring)\n",
    "\n",
    "print(\"substring occurs %d times \" % my_count)"
   ]
  },
  {
   "cell_type": "code",
   "execution_count": null,
   "id": "b457ac4f-a725-4c98-a833-63618d329a37",
   "metadata": {},
   "outputs": [],
   "source": [
    "# 14. How do you check if a string contains only alphabetic characters?"
   ]
  },
  {
   "cell_type": "code",
   "execution_count": 4,
   "id": "2ef06aae-6462-4110-9629-693b1b125dc4",
   "metadata": {},
   "outputs": [
    {
     "data": {
      "text/plain": [
       "False"
      ]
     },
     "execution_count": 4,
     "metadata": {},
     "output_type": "execute_result"
    }
   ],
   "source": [
    ">>> my_string = 'Los Angeles'\n",
    ">>> my_string.isalnum()"
   ]
  },
  {
   "cell_type": "code",
   "execution_count": 5,
   "id": "2a52f89a-80d6-439b-b661-7f85fd971906",
   "metadata": {},
   "outputs": [
    {
     "data": {
      "text/plain": [
       "True"
      ]
     },
     "execution_count": 5,
     "metadata": {},
     "output_type": "execute_result"
    }
   ],
   "source": [
    ">>> my_string1 = 'Toronto123'\n",
    ">>> my_string1.isalnum()"
   ]
  },
  {
   "cell_type": "code",
   "execution_count": 15,
   "id": "a6abea97-f125-42ab-84af-b8291d0dcf08",
   "metadata": {},
   "outputs": [
    {
     "data": {
      "text/plain": [
       "True"
      ]
     },
     "execution_count": 15,
     "metadata": {},
     "output_type": "execute_result"
    }
   ],
   "source": [
    ">>> my_string = \"FAIzan123\"\n",
    ">>> my_string.isalnum()"
   ]
  },
  {
   "cell_type": "code",
   "execution_count": null,
   "id": "c9ed01e4-29f2-4660-9ac6-58f0dd262cd3",
   "metadata": {},
   "outputs": [],
   "source": [
    "# 15. How do you check if a string contains only numeric characters?"
   ]
  },
  {
   "cell_type": "code",
   "execution_count": 18,
   "id": "02038be5-af40-454f-a2a9-f4640330304d",
   "metadata": {},
   "outputs": [
    {
     "name": "stdout",
     "output_type": "stream",
     "text": [
      "my string : 123456 abcdef\n",
      "string1 contains all numbers\n"
     ]
    }
   ],
   "source": [
    "my_string1 = '123456'\n",
    "my_string2 = 'abcdef'\n",
    "\n",
    "print(\"my string :\",my_string1, my_string2)\n",
    "if my_string1.isdigit():\n",
    "    print(\"string1 contains all numbers\")\n",
    "else:\n",
    "    print(\"string1 doesn't contains all numbers\")\n",
    "\n",
    "\n",
    "    "
   ]
  },
  {
   "cell_type": "code",
   "execution_count": 16,
   "id": "f2bfd278-9a5e-4de6-aec4-fd37c0f5f759",
   "metadata": {},
   "outputs": [
    {
     "name": "stdout",
     "output_type": "stream",
     "text": [
      "Initial Strings :  1234556 ab123bc\n",
      "String1 contains all numbers\n",
      "String2 doesn't contains all numbers\n"
     ]
    }
   ],
   "source": [
    "\n",
    "\n",
    "# Initialising string\n",
    "ini_string1 = '1234556'\n",
    "ini_string2 = 'ab123bc'\n",
    " \n",
    "# printing initial string\n",
    "print(\"Initial Strings : \", ini_string1, ini_string2)\n",
    " \n",
    "# Using isdigit()\n",
    "if ini_string1.isdigit():\n",
    "    print(\"String1 contains all numbers\")\n",
    "else:\n",
    "    print(\"String1 doesn't contains all numbers\")\n",
    " \n",
    "if ini_string2.isdigit():\n",
    "    print(\"String2 contains all numbers\")\n",
    "else:\n",
    "    print(\"String2 doesn't contains all numbers\")"
   ]
  },
  {
   "cell_type": "code",
   "execution_count": null,
   "id": "cacdf186-5d3f-480e-938c-6d236aaba795",
   "metadata": {},
   "outputs": [],
   "source": [
    "# 16. How can you check if a string is a palindrome?"
   ]
  },
  {
   "cell_type": "code",
   "execution_count": 19,
   "id": "3798dd59-20ba-4d32-adbb-16bc7f25d37a",
   "metadata": {},
   "outputs": [
    {
     "name": "stdout",
     "output_type": "stream",
     "text": [
      "Yes\n"
     ]
    }
   ],
   "source": [
    "# function which return reverse of a string\n",
    "\n",
    "def isPalindrome(s):\n",
    "    return s == s[::-1]\n",
    "\n",
    "\n",
    "# Driver code\n",
    "s = \"malayalam\"\n",
    "ans = isPalindrome(s)\n",
    "\n",
    "if ans:\n",
    "    print(\"Yes\")\n",
    "else:\n",
    "    print(\"No\")"
   ]
  },
  {
   "cell_type": "code",
   "execution_count": 27,
   "id": "8d97e0a1-efc6-45ad-b8b5-ac37207a119e",
   "metadata": {},
   "outputs": [
    {
     "name": "stdout",
     "output_type": "stream",
     "text": [
      "No\n"
     ]
    }
   ],
   "source": [
    "# function which return reverse of a string\n",
    "def ispalindrom(Faizan):\n",
    "    return F == F[::-2]\n",
    "\n",
    "# driver code \n",
    "F = \"English\"\n",
    "ans = isPalindrome(F)\n",
    "\n",
    "if ans:\n",
    "    print(\"Yes\")\n",
    "else:\n",
    "    print(\"No\")"
   ]
  },
  {
   "cell_type": "code",
   "execution_count": null,
   "id": "abd43553-ab09-4cad-af62-49fcd1ba5335",
   "metadata": {},
   "outputs": [],
   "source": [
    "# 17. How can you reverse a string in Python?"
   ]
  },
  {
   "cell_type": "code",
   "execution_count": 34,
   "id": "9e9deee8-826f-4677-bacf-666de35ae7c8",
   "metadata": {},
   "outputs": [
    {
     "name": "stdout",
     "output_type": "stream",
     "text": [
      "dlroWolleH\n"
     ]
    }
   ],
   "source": [
    "txt = \"HelloWorld\"[::-1]\n",
    "print(txt)"
   ]
  },
  {
   "cell_type": "code",
   "execution_count": null,
   "id": "a292da7e-8300-479a-b75c-d7dc8dc2096c",
   "metadata": {},
   "outputs": [],
   "source": [
    "# 18. How do you format a string with placeholders for variable values?"
   ]
  },
  {
   "cell_type": "code",
   "execution_count": 35,
   "id": "79932e29-60ad-4fda-996c-c1f7d7489f13",
   "metadata": {},
   "outputs": [
    {
     "name": "stdout",
     "output_type": "stream",
     "text": [
      "Misha walked and looked around\n"
     ]
    }
   ],
   "source": [
    "\n",
    "\n",
    "x = 'looked'\n",
    " \n",
    "print(\"Misha %s and %s around\"%('walked',x))"
   ]
  },
  {
   "cell_type": "code",
   "execution_count": null,
   "id": "80859889-8d5e-48fb-86ef-dc70041e8cee",
   "metadata": {},
   "outputs": [],
   "source": [
    "# 19. How do you access a substring of a string using slicing?"
   ]
  },
  {
   "cell_type": "code",
   "execution_count": 36,
   "id": "c76e0445-6ee8-4136-9eef-f26b853cf232",
   "metadata": {},
   "outputs": [
    {
     "name": "stdout",
     "output_type": "stream",
     "text": [
      "llo\n"
     ]
    }
   ],
   "source": [
    "b = \"Hello, World!\"\n",
    "print(b[2:5])"
   ]
  },
  {
   "cell_type": "code",
   "execution_count": null,
   "id": "884ba294-b427-499d-8152-6cb6078d178b",
   "metadata": {},
   "outputs": [],
   "source": [
    "# 20. How can you remove specific characters from a string in Python?"
   ]
  },
  {
   "cell_type": "code",
   "execution_count": 38,
   "id": "14cd07e9-bc9b-4a8f-b49e-a8f4df5c92ac",
   "metadata": {},
   "outputs": [
    {
     "name": "stdout",
     "output_type": "stream",
     "text": [
      "GeeksforGeeks\n"
     ]
    }
   ],
   "source": [
    "\n",
    "\n",
    "string = \"Ge;ek * s:fo ! r;Ge * e*k:s !\"\n",
    " \n",
    "test_str = ''.join(letter for letter in string if letter.isalnum())\n",
    "print(test_str)"
   ]
  }
 ],
 "metadata": {
  "kernelspec": {
   "display_name": "Python 3 (ipykernel)",
   "language": "python",
   "name": "python3"
  },
  "language_info": {
   "codemirror_mode": {
    "name": "ipython",
    "version": 3
   },
   "file_extension": ".py",
   "mimetype": "text/x-python",
   "name": "python",
   "nbconvert_exporter": "python",
   "pygments_lexer": "ipython3",
   "version": "3.12.4"
  }
 },
 "nbformat": 4,
 "nbformat_minor": 5
}
