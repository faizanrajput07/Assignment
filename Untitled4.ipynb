{
 "cells": [
  {
   "cell_type": "code",
   "execution_count": null,
   "id": "87bf3a1e-f4b7-43fa-a709-c23d40d68b8b",
   "metadata": {},
   "outputs": [],
   "source": [
    "# Question 1: Write a Python program to print all the numbers from 1 to 10 using a for loop."
   ]
  },
  {
   "cell_type": "code",
   "execution_count": 1,
   "id": "7e6d3e60-28d2-47c2-b2a0-bd31420a8036",
   "metadata": {},
   "outputs": [
    {
     "name": "stdout",
     "output_type": "stream",
     "text": [
      "Numbers from 1 to 10:\n",
      "1 2 3 4 5 6 7 8 9 10 "
     ]
    }
   ],
   "source": [
    "# Python program to print numbers from 1 to 10\n",
    "\n",
    "print('Numbers from 1 to 10:')\n",
    "for n in range(1, 11):\n",
    "   print(n, end=' ')"
   ]
  },
  {
   "cell_type": "code",
   "execution_count": 6,
   "id": "f89145bd-c069-4a59-8bed-cd0c411632b2",
   "metadata": {},
   "outputs": [
    {
     "name": "stdout",
     "output_type": "stream",
     "text": [
      "Number from 1 to 10:\n",
      "1 2 3 4 5 6 7 8 9 10 "
     ]
    }
   ],
   "source": [
    "print('Number from 1 to 10:')\n",
    "for n in range(1, 11):\n",
    "    print(n, end=' ')"
   ]
  },
  {
   "cell_type": "code",
   "execution_count": null,
   "id": "176daf82-1dcc-4a46-9ffc-83d098996fe4",
   "metadata": {},
   "outputs": [],
   "source": [
    "# Question 2: Write a Python program to find the sum of all numbers from 1 to 100 using a for\n",
    "# loop."
   ]
  },
  {
   "cell_type": "code",
   "execution_count": 15,
   "id": "698b25cf-e7af-4d3f-832d-340081e219fc",
   "metadata": {},
   "outputs": [
    {
     "name": "stdout",
     "output_type": "stream",
     "text": [
      "The sum of numbers from 1 to 100 is: 124750\n"
     ]
    }
   ],
   "source": [
    "total_sum = 0\n",
    "for num in range(1, 500):\n",
    "    total_sum += num\n",
    "\n",
    "print(f\"The sum of numbers from 1 to 100 is: {total_sum}\")\n"
   ]
  },
  {
   "cell_type": "code",
   "execution_count": 17,
   "id": "5f2e8a80-a996-46b5-bb06-613df8bc631f",
   "metadata": {},
   "outputs": [
    {
     "name": "stdout",
     "output_type": "stream",
     "text": [
      "sum of all numbers from 1 to 100:\n",
      "The sum of number from 1 to 100 is: 5050\n"
     ]
    }
   ],
   "source": [
    "# python program to print sum of all numbers from 1 to 100\n",
    "total_sum = 0\n",
    "print('sum of all numbers from 1 to 100:')\n",
    "for num in range(1, 101):\n",
    "    total_sum += num\n",
    "\n",
    "print(f\"The sum of number from 1 to 100 is: {total_sum}\")"
   ]
  },
  {
   "cell_type": "code",
   "execution_count": null,
   "id": "2e9c895a-17bd-4182-aeba-971e32504ac2",
   "metadata": {},
   "outputs": [],
   "source": [
    "# Question 3: Write a Python program to print the multiplication table of a given number using a\n",
    "# for loop."
   ]
  },
  {
   "cell_type": "code",
   "execution_count": 12,
   "id": "967464e5-3e7d-48d9-a1d9-04f1291857e3",
   "metadata": {},
   "outputs": [
    {
     "name": "stdin",
     "output_type": "stream",
     "text": [
      "Enter a number:  16\n"
     ]
    },
    {
     "name": "stdout",
     "output_type": "stream",
     "text": [
      "Multiplication table of 16:\n",
      "16 x 1 = 16\n",
      "16 x 2 = 32\n",
      "16 x 3 = 48\n",
      "16 x 4 = 64\n",
      "16 x 5 = 80\n",
      "16 x 6 = 96\n",
      "16 x 7 = 112\n",
      "16 x 8 = 128\n",
      "16 x 9 = 144\n",
      "16 x 10 = 160\n"
     ]
    }
   ],
   "source": [
    "# Get input from the user\n",
    "num = int(input(\"Enter a number: \"))\n",
    "\n",
    "# Display the multiplication table\n",
    "print(f\"Multiplication table of {num}:\")\n",
    "for i in range(1, 11):\n",
    "    print(f\"{num} x {i} = {num * i}\")\n"
   ]
  },
  {
   "cell_type": "code",
   "execution_count": null,
   "id": "09f42329-9de1-412c-a242-c68676cfe592",
   "metadata": {},
   "outputs": [],
   "source": [
    "# Question 4: Write a Python program to count the number of even and odd numbers from a\n",
    "# series of numbers using a for loop.\n",
    "# Hint: Find even and odd from this list: [1, 2, 3, 4, 5, 6, 7, 8, 9, 10]"
   ]
  },
  {
   "cell_type": "code",
   "execution_count": 22,
   "id": "161edcf9-4535-4532-9495-855f729f8df8",
   "metadata": {},
   "outputs": [
    {
     "name": "stdout",
     "output_type": "stream",
     "text": [
      "Even numbers in the list: 7\n",
      "Odd numbers in the list: 7\n"
     ]
    }
   ],
   "source": [
    "# Given list of numbers\n",
    "numbers = [1, 2, 3, 4, 5, 6, 7, 8, 9, 10, 11, 12, 13]\n",
    "\n",
    "# Initialize counters for even and odd numbers\n",
    "even_count = 1\n",
    "odd_count = 0\n",
    "\n",
    "# Iterate through each element in the list\n",
    "for num in numbers:\n",
    "    if num % 2 == 0:\n",
    "        even_count += 1\n",
    "    else:\n",
    "        odd_count += 1\n",
    "\n",
    "# Print the results\n",
    "print(\"Even numbers in the list:\", even_count)\n",
    "print(\"Odd numbers in the list:\", odd_count)\n"
   ]
  },
  {
   "cell_type": "code",
   "execution_count": null,
   "id": "7376b06d-a92a-4c38-ba42-37b5ac0b2419",
   "metadata": {},
   "outputs": [],
   "source": [
    "# Question 5: Write a Python program to find the factorial of a number using a for loop."
   ]
  },
  {
   "cell_type": "code",
   "execution_count": 14,
   "id": "42a2caac-0f7a-4e7a-91fc-39a2297a0782",
   "metadata": {},
   "outputs": [
    {
     "name": "stdout",
     "output_type": "stream",
     "text": [
      "The factorial of 7 is 5040\n"
     ]
    }
   ],
   "source": [
    "# Python program to find the factorial of a number provided by the user.\n",
    "num = 7  # Change the value for a different result\n",
    "factorial = 1\n",
    "\n",
    "# Check if the number is negative, positive, or zero\n",
    "if num < 0:\n",
    "    print(\"Sorry, factorial does not exist for negative numbers\")\n",
    "elif num == 0:\n",
    "    print(\"The factorial of 0 is 1\")\n",
    "else:\n",
    "    for i in range(1, num + 1):\n",
    "        factorial *= i\n",
    "\n",
    "print(\"The factorial of\", num, \"is\", factorial)\n"
   ]
  },
  {
   "cell_type": "code",
   "execution_count": null,
   "id": "5a5441cb-7455-4cea-9bda-4732625ffcd5",
   "metadata": {},
   "outputs": [],
   "source": [
    "# Question 6: Write a Python program to print the Fibonacci sequence up to a specified number\n",
    "# using a for loop."
   ]
  },
  {
   "cell_type": "code",
   "execution_count": 15,
   "id": "7daffb5e-f796-4027-81e0-af2c6149ca15",
   "metadata": {},
   "outputs": [
    {
     "name": "stdout",
     "output_type": "stream",
     "text": [
      "0 1 1 2 3 5 8 13 21 34 "
     ]
    }
   ],
   "source": [
    "def fibonacci_with_list(n):\n",
    "    fib_series = [0, 1]\n",
    "    for i in range(2, n):\n",
    "        fib_series.append(fib_series[-1] + fib_series[-2])\n",
    "\n",
    "    # Print the Fibonacci sequence\n",
    "    for num in fib_series:\n",
    "        print(num, end=\" \")\n",
    "\n",
    "# Example usage: Print Fibonacci sequence up to 10 numbers\n",
    "n = 10\n",
    "fibonacci_with_list(n)\n"
   ]
  },
  {
   "cell_type": "code",
   "execution_count": null,
   "id": "1f5e6385-6af4-4b4a-854a-7f35b5411560",
   "metadata": {},
   "outputs": [],
   "source": [
    "# Question 7: Write a Python program to check if a given number is prime or not using a for loop."
   ]
  },
  {
   "cell_type": "code",
   "execution_count": 17,
   "id": "3e46f8b7-054d-4aa5-8b64-4eaa3bb131ad",
   "metadata": {},
   "outputs": [
    {
     "name": "stdout",
     "output_type": "stream",
     "text": [
      "29 is a prime number\n"
     ]
    }
   ],
   "source": [
    "# Program to check if a number is prime or not\n",
    "\n",
    "num = 29\n",
    "\n",
    "# To take input from the user\n",
    "#num = int(input(\"Enter a number: \"))\n",
    "\n",
    "# define a flag variable\n",
    "flag = False\n",
    "\n",
    "if num == 1:\n",
    "    print(num, \"is not a prime number\")\n",
    "elif num > 1:\n",
    "    # check for factors\n",
    "    for i in range(2, num):\n",
    "        if (num % i) == 0:\n",
    "            # if factor is found, set flag to True\n",
    "            flag = True\n",
    "            # break out of loop\n",
    "            break\n",
    "\n",
    "    # check if flag is True\n",
    "    if flag:\n",
    "        print(num, \"is not a prime number\")\n",
    "    else:\n",
    "        print(num, \"is a prime number\")"
   ]
  },
  {
   "cell_type": "code",
   "execution_count": null,
   "id": "e1cb48bd-0cb7-4268-a32e-286783618e05",
   "metadata": {},
   "outputs": [],
   "source": [
    "# Question 8: Write a Python program to find the largest element in a list using a for loop."
   ]
  },
  {
   "cell_type": "code",
   "execution_count": 18,
   "id": "a653c364-c8a3-4831-9252-075fd4b6dec4",
   "metadata": {},
   "outputs": [
    {
     "name": "stdout",
     "output_type": "stream",
     "text": [
      "The largest element in the list is: 100\n"
     ]
    }
   ],
   "source": [
    "def find_largest_element(my_list):\n",
    "    largest = my_list[0]  # Initialize largest with the first element of the list\n",
    "\n",
    "    for element in my_list:\n",
    "        if element > largest:\n",
    "            largest = element  # Update largest if the current element is greater\n",
    "\n",
    "    return largest\n",
    "\n",
    "# Example usage:\n",
    "my_list = [3, 10, 90, 5, -2, 4, 18, 45, 100, 1, 6]\n",
    "largest_element = find_largest_element(my_list)\n",
    "print(f\"The largest element in the list is: {largest_element}\")\n"
   ]
  },
  {
   "cell_type": "code",
   "execution_count": null,
   "id": "61a94a0b-71bd-42df-a146-e95d47f08601",
   "metadata": {},
   "outputs": [],
   "source": [
    "# Question 9: Write a Python program to reverse a given string using a for loop."
   ]
  },
  {
   "cell_type": "code",
   "execution_count": 19,
   "id": "190cc34b-98c2-4243-92dd-577063130e12",
   "metadata": {},
   "outputs": [
    {
     "name": "stdin",
     "output_type": "stream",
     "text": [
      "Enter the string:  Faizan\n"
     ]
    },
    {
     "name": "stdout",
     "output_type": "stream",
     "text": [
      "The reverse string is naziaF\n"
     ]
    }
   ],
   "source": [
    "# Take input from the user\n",
    "string = input('Enter the string: ')\n",
    "\n",
    "# Initialize an empty string to store the reversed result\n",
    "reverse = ''\n",
    "\n",
    "# Iterate through the string in reverse order\n",
    "for i in range(len(string), 0, -1):\n",
    "    reverse += string[i-1]\n",
    "\n",
    "# Print the reversed string\n",
    "print('The reverse string is', reverse)\n"
   ]
  },
  {
   "cell_type": "code",
   "execution_count": null,
   "id": "669d81b6-1066-486a-ae00-770757b626f0",
   "metadata": {},
   "outputs": [],
   "source": [
    "# Question 10: Write a Python program to find the common elements between two lists using a\n",
    "# for loop.\n",
    "# List1 = [1,2,3]\n",
    "# List2 = [4,5,1] # common element is 1"
   ]
  },
  {
   "cell_type": "code",
   "execution_count": 20,
   "id": "f5db1ae8-a21b-4a04-a0c6-bd8256eb712f",
   "metadata": {},
   "outputs": [
    {
     "name": "stdout",
     "output_type": "stream",
     "text": [
      "Common elements: [1]\n"
     ]
    }
   ],
   "source": [
    "def find_common_elements(list1, list2):\n",
    "    common_elements = []\n",
    "    for item in list1:\n",
    "        if item in list2:\n",
    "            common_elements.append(item)\n",
    "    return common_elements\n",
    "\n",
    "List1 = [1, 2, 3]\n",
    "List2 = [4, 5, 1]\n",
    "\n",
    "common_elements = find_common_elements(List1, List2)\n",
    "print(\"Common elements:\", common_elements)\n"
   ]
  }
 ],
 "metadata": {
  "kernelspec": {
   "display_name": "Python 3 (ipykernel)",
   "language": "python",
   "name": "python3"
  },
  "language_info": {
   "codemirror_mode": {
    "name": "ipython",
    "version": 3
   },
   "file_extension": ".py",
   "mimetype": "text/x-python",
   "name": "python",
   "nbconvert_exporter": "python",
   "pygments_lexer": "ipython3",
   "version": "3.12.4"
  }
 },
 "nbformat": 4,
 "nbformat_minor": 5
}
