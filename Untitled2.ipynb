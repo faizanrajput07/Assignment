{
 "cells": [
  {
   "cell_type": "code",
   "execution_count": null,
   "id": "96599159-1850-4c4e-9e9d-8be42239f0c1",
   "metadata": {},
   "outputs": [],
   "source": [
    "\n",
    "# Q1. Write a program to calculate the electricity bill\n",
    "using only if statement? (accept number of unit from user)\n",
    "according to the following criteria:\n",
    "\n",
    "Unit Price\n",
    "First 100 units no charge\n",
    "Next 100 units Rs 5 per unit\n",
    "After 200 units Rs 10 per unit\n",
    "(For example, if input unit is 350 than total bill amount is Rs2000). Lets explain...\n",
    "For first 100 no charges\n",
    "Now you have 250 unit remaining\n",
    "100-200 you need to pay – 100*5 = 500\n",
    "Now 200-100 you need to pay 150*10 = 1500\n",
    "Total = 500+1500 = 2000 \n",
    "\n",
    " "
   ]
  },
  {
   "cell_type": "code",
   "execution_count": 7,
   "id": "9506078a-b484-4d95-8a64-810d787170d5",
   "metadata": {},
   "outputs": [
    {
     "ename": "IndentationError",
     "evalue": "unexpected indent (2991959491.py, line 3)",
     "output_type": "error",
     "traceback": [
      "\u001b[1;36m  Cell \u001b[1;32mIn[7], line 3\u001b[1;36m\u001b[0m\n\u001b[1;33m    if units<=100:\u001b[0m\n\u001b[1;37m    ^\u001b[0m\n\u001b[1;31mIndentationError\u001b[0m\u001b[1;31m:\u001b[0m unexpected indent\n"
     ]
    }
   ],
   "source": [
    "# units=int(input(\"enter the number of units:\"))\n",
    "total_bill=0\n",
    " if units<=100:\n",
    "    total_bill=0\n",
    "elif units<=200:\n",
    "    total_bill=(units-100)*5\n",
    "else:\n",
    "    total_bill=100*5+(units-200)*10\n",
    "    print(\"Total bill amount: Rs\",total_bill)\n",
    "    "
   ]
  },
  {
   "cell_type": "code",
   "execution_count": 41,
   "id": "7ebaaf17-fbef-43b9-a300-91334c1dabae",
   "metadata": {},
   "outputs": [],
   "source": [
    "# Q2. Write a program to accept percentage from the user and display\n",
    "# the grade according to the following criteria:\n",
    "\n",
    "# Marks Grade\n",
    "# > 90 A\n",
    "# > 80 and <= 90 B\n",
    "# >= 60 and <= 80 C\n",
    "# below 60 D \n"
   ]
  },
  {
   "cell_type": "code",
   "execution_count": 1,
   "id": "0a03aa6f-cc49-4483-8330-74bc5d89657c",
   "metadata": {},
   "outputs": [
    {
     "name": "stdin",
     "output_type": "stream",
     "text": [
      "what is the grade percentge. 90\n"
     ]
    },
    {
     "name": "stdout",
     "output_type": "stream",
     "text": [
      "You got A+\n"
     ]
    },
    {
     "name": "stdin",
     "output_type": "stream",
     "text": [
      "what is the grade percentge. 80\n"
     ]
    },
    {
     "name": "stdout",
     "output_type": "stream",
     "text": [
      "You got A\n"
     ]
    },
    {
     "name": "stdin",
     "output_type": "stream",
     "text": [
      "what is the grade percentge. 60\n"
     ]
    },
    {
     "name": "stdout",
     "output_type": "stream",
     "text": [
      "You got A-\n"
     ]
    },
    {
     "name": "stdin",
     "output_type": "stream",
     "text": [
      "what is the grade percentge. 70\n"
     ]
    },
    {
     "name": "stdout",
     "output_type": "stream",
     "text": [
      "You got A-\n"
     ]
    }
   ],
   "source": [
    "for i in range(0,4):\n",
    "    grade=float(input(\"what is the grade percentge.\"))\n",
    "    if grade >=90:\n",
    "        print(\"You got A+\")\n",
    "    elif 80 <=grade<90:\n",
    "        print(\"You got A\")\n",
    "    elif 60<=grade and grade<80:\n",
    "        print(\"You got A-\")\n",
    "    else:\n",
    "        print(\"Sorry you need A- for qualified\")"
   ]
  },
  {
   "cell_type": "code",
   "execution_count": 4,
   "id": "9785c52f-768d-4286-8caf-5e10a6395d70",
   "metadata": {},
   "outputs": [],
   "source": [
    "# Q3. Accept the age of 4 people and display the youngest one?"
   ]
  },
  {
   "cell_type": "code",
   "execution_count": 7,
   "id": "323bde83-6ad4-4726-8229-133ea6c10dce",
   "metadata": {},
   "outputs": [
    {
     "name": "stdin",
     "output_type": "stream",
     "text": [
      "Enter age 20:  20\n",
      "Enter age 24:  19\n",
      "Enter age 19:  24\n",
      "Enter age 20:  20\n"
     ]
    },
    {
     "name": "stdout",
     "output_type": "stream",
     "text": [
      "The youngest age is: 19\n"
     ]
    }
   ],
   "source": [
    "# Prompt the user to enter four ages\n",
    "age1 = int(input(\"Enter age 20: \"))\n",
    "age2 = int(input(\"Enter age 24: \"))\n",
    "age3 = int(input(\"Enter age 19: \"))\n",
    "age4 = int(input(\"Enter age 20: \"))\n",
    "\n",
    "# Compare the ages to find the youngest age\n",
    "youngest_age = min(age1, age2, age3, age4)\n",
    "\n",
    "# Print out the youngest age\n",
    "print(\"The youngest age is:\", youngest_age)"
   ]
  },
  {
   "cell_type": "code",
   "execution_count": null,
   "id": "3c17e80d-5620-45b3-8b4a-dacfa6d53ffc",
   "metadata": {},
   "outputs": [],
   "source": [
    "# # Q4. A company decided to give bonus to employee\n",
    "# according to following criteria:\n",
    "\n",
    "# Time period of Service Bonus\n",
    "\n",
    "# More than 10 years 10%\n",
    "\n",
    "# >=6 and <=10 8%\n",
    "\n",
    "# Less than 6 years 5%\n",
    "\n",
    "# Ask user for their salary and years of service and print the\n",
    "# net bonus amount?"
   ]
  },
  {
   "cell_type": "code",
   "execution_count": 18,
   "id": "3e3049a2-18bb-4976-8769-d4c2ae877e4f",
   "metadata": {},
   "outputs": [
    {
     "name": "stdin",
     "output_type": "stream",
     "text": [
      "Enter the time period of service 10\n",
      "Enter your salary 10\n"
     ]
    },
    {
     "name": "stdout",
     "output_type": "stream",
     "text": [
      "Bonus is 0.8\n"
     ]
    }
   ],
   "source": [
    "ser=int(input(\"Enter the time period of service\"))\n",
    "sal =int(input(\"Enter your salary\"))\n",
    "if ser > 10:\n",
    "    b=10/100*sal\n",
    "if ser >=6 and ser <=10:\n",
    "    b = 8/100*sal\n",
    "if ser < 6:\n",
    "    b = 5/100*sal\n",
    "    \n",
    "print(\"Bonus is\",b)"
   ]
  },
  {
   "cell_type": "code",
   "execution_count": null,
   "id": "276ffa28-e98a-4260-87fa-fbe0b8f691f7",
   "metadata": {},
   "outputs": [],
   "source": [
    "# Q5. Accept three numbers from the user and\n",
    "# display the second largest number?"
   ]
  },
  {
   "cell_type": "code",
   "execution_count": 24,
   "id": "6b8bf622-f4e6-450c-a1b0-d06e126eb465",
   "metadata": {},
   "outputs": [
    {
     "name": "stdout",
     "output_type": "stream",
     "text": [
      "Object `number` not found.\n"
     ]
    },
    {
     "name": "stdin",
     "output_type": "stream",
     "text": [
      "enter number 1: 1\n",
      "enter number 6: 6\n",
      "enter number 3: 3\n"
     ]
    },
    {
     "name": "stdout",
     "output_type": "stream",
     "text": [
      "num2 is the second largest number\n"
     ]
    }
   ],
   "source": [
    "display the second largest number?\n",
    "num1=int(input(\"enter number 1:\"))\n",
    "num2=int(input(\"enter number 6:\"))\n",
    "num3=int(input(\"enter number 3:\"))\n",
    "max_num=max(num1,num2,num3)\n",
    "min_num=min(num1,num2,num3)\n",
    "if num1!=max_num and num1!=min_num:\n",
    "    print(\"num1 is the second largest number\")\n",
    "elif num2!=max_num and num2!=min_num:\n",
    "    print(\"num2 is the second largest number\")\n",
    "else:\n",
    "    print(\"num2 is the second largest number\")"
   ]
  },
  {
   "cell_type": "code",
   "execution_count": null,
   "id": "0b9b2a47-89d7-422e-b4af-3967db1d1b76",
   "metadata": {},
   "outputs": [],
   "source": [
    "# Q6. Accept the marked price from the user and calculate\n",
    "# the Net amount as (Marked Price – Discount) to pay\n",
    "# according to following criteria:\n",
    "\n",
    "# Marked Price Discount\n",
    "# >10000 20%\n",
    "# >7000 and <=10000 15%\n",
    "# <=7000 10%"
   ]
  },
  {
   "cell_type": "code",
   "execution_count": 13,
   "id": "16ae08e9-1443-40de-9746-6f53d5d6f5d5",
   "metadata": {},
   "outputs": [
    {
     "name": "stdin",
     "output_type": "stream",
     "text": [
      "Enter marked price 10000\n"
     ]
    },
    {
     "name": "stdout",
     "output_type": "stream",
     "text": [
      "Net amount to pay  8500.0\n"
     ]
    }
   ],
   "source": [
    "na=0\n",
    "d=0\n",
    "mp=int(input(\"Enter marked price\"))\n",
    "if mp >10000:\n",
    "    d = 20/100*mp\n",
    "if mp > 7000 and mp <=10000:\n",
    "    d = 15/100*mp\n",
    "if mp <=7000:\n",
    "    d = 10/100*mp\n",
    "na = mp-d\n",
    "print(\"Net amount to pay \",na)"
   ]
  },
  {
   "cell_type": "code",
   "execution_count": 12,
   "id": "01ccffde-835f-46a5-8b78-cbb23dded7e6",
   "metadata": {},
   "outputs": [],
   "source": [
    "# Q7. Accept the marks of English, Math and Science,\n",
    "# Social Studies Subject and display the stream allotted\n",
    "# according to following:\n",
    "\n",
    "# All Subjects more than 80 marks — Science Stream\n",
    "\n",
    "# English >80 and Math, Science above 50 — Commerce Stream\n",
    "\n",
    "# English > 80 and social studies > 80 — Humanities"
   ]
  },
  {
   "cell_type": "code",
   "execution_count": 20,
   "id": "f868bf68-acef-463f-ae2e-5077121aca47",
   "metadata": {},
   "outputs": [
    {
     "name": "stdin",
     "output_type": "stream",
     "text": [
      "Enter marks in English:  80\n",
      "Enter marks in Marks:  60\n",
      "Enter marks in Science:  80\n"
     ]
    },
    {
     "name": "stdout",
     "output_type": "stream",
     "text": [
      "Stream: Bio Science\n"
     ]
    }
   ],
   "source": [
    "e=int(input(\"Enter marks in English: \"))\n",
    "m=int(input(\"Enter marks in Marks: \"))\n",
    "s=int(input(\"Enter marks in Science: \"))\n",
    "if(e>=80 and m>=80 and s>=80):\n",
    "    print(\"Stream: Pure Science \")\n",
    "elif(e>=80 and m>=60 and s>=80):\n",
    "    print(\"Stream: Bio Science\")\n",
    "else:\n",
    "    print(\"Stream: Commerce\")"
   ]
  },
  {
   "cell_type": "code",
   "execution_count": null,
   "id": "807fd3c0-fec7-4f82-8480-2986a91d4453",
   "metadata": {},
   "outputs": [],
   "source": [
    "# Q8. Write a program to display \"Hello\" if a number entered\n",
    "# by user is a multiple of five, otherwise print \"Bye\"?"
   ]
  },
  {
   "cell_type": "code",
   "execution_count": 11,
   "id": "1b1fbff8-ce2f-41e1-ae21-420d530fc7fc",
   "metadata": {},
   "outputs": [
    {
     "name": "stdin",
     "output_type": "stream",
     "text": [
      "enter the number: 90\n",
      "enter the number: 80\n",
      "enter the number: 70\n",
      "enter the number: 80\n"
     ]
    },
    {
     "name": "stdout",
     "output_type": "stream",
     "text": [
      "5\n"
     ]
    }
   ],
   "source": [
    "for i in range(0,4):\n",
    " number=int(input(\"enter the number:\"))\n",
    "if number*100:\n",
    "    print(\"5\")\n",
    "else:\n",
    "    print(\"bye\")"
   ]
  },
  {
   "cell_type": "code",
   "execution_count": null,
   "id": "ee970f68-0149-400c-b0bf-a36365f58dfa",
   "metadata": {},
   "outputs": [],
   "source": [
    "# Q9. Write a program to check whether the last digit of a number\n",
    "# (entered by user) is divisible by 3 or not?"
   ]
  },
  {
   "cell_type": "code",
   "execution_count": 33,
   "id": "402f5804-cb14-4c94-a16e-ffcba3348e06",
   "metadata": {},
   "outputs": [
    {
     "name": "stdin",
     "output_type": "stream",
     "text": [
      "enter the number: 3\n"
     ]
    },
    {
     "name": "stdout",
     "output_type": "stream",
     "text": [
      "the number is indvisible by 3\n"
     ]
    }
   ],
   "source": [
    "number=int(input(\"enter the number:\"))\n",
    "last_digit=number%10\n",
    "if last_digit%3==0:\n",
    "    print(\"the number is indvisible by 3\")\n",
    "else:\n",
    "    print(\"the number is not indivisible by 3\")"
   ]
  },
  {
   "cell_type": "code",
   "execution_count": null,
   "id": "8723993e-9b20-4eb2-849c-ee85ceb0d07d",
   "metadata": {},
   "outputs": [],
   "source": [
    "# Q10. Write a program to check whether a number entered\n",
    "# is three-digit number or not?"
   ]
  },
  {
   "cell_type": "code",
   "execution_count": 3,
   "id": "a68cb8d4-98b0-4484-bd1c-74480df207bd",
   "metadata": {},
   "outputs": [
    {
     "name": "stdin",
     "output_type": "stream",
     "text": [
      "enter the number: 999\n"
     ]
    },
    {
     "name": "stdout",
     "output_type": "stream",
     "text": [
      "the number is three digit number\n"
     ]
    }
   ],
   "source": [
    "number=int(input(\"enter the number:\"))\n",
    "if 100<=number<=999:\n",
    "    print(\"the number is three digit number\")\n",
    "else:\n",
    "     print(\"no\")"
   ]
  },
  {
   "cell_type": "code",
   "execution_count": null,
   "id": "fdff51bd-ae46-467f-8f6d-d7bb2eadfb95",
   "metadata": {},
   "outputs": [],
   "source": []
  }
 ],
 "metadata": {
  "kernelspec": {
   "display_name": "Python 3 (ipykernel)",
   "language": "python",
   "name": "python3"
  },
  "language_info": {
   "codemirror_mode": {
    "name": "ipython",
    "version": 3
   },
   "file_extension": ".py",
   "mimetype": "text/x-python",
   "name": "python",
   "nbconvert_exporter": "python",
   "pygments_lexer": "ipython3",
   "version": "3.12.4"
  }
 },
 "nbformat": 4,
 "nbformat_minor": 5
}
